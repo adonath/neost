{
 "cells": [
  {
   "cell_type": "markdown",
   "id": "924af82b",
   "metadata": {},
   "source": [
    "# Tabulated Example\n",
    "\n",
    "To run this tutorial, you should install NEoST following the install guide. Some extra data files are also required, these are the `ap4_new.dat` file and is included in the GitHub repository along with this notebook.\n",
    "\n",
    "Before continuing with this tutorial, please read the inference process overview to familiarise yourself with the way NEoST parametrises the equation of state.\n",
    "\n",
    "The following block of code will properly import NEoST and its prerequisites, furthermore it also defines a name for the inference run, this name is what will be prefixed to all of NEoST's output files."
   ]
  },
  {
   "cell_type": "code",
   "execution_count": 1,
   "id": "7efe93e5",
   "metadata": {},
   "outputs": [
    {
     "ename": "ModuleNotFoundError",
     "evalue": "No module named 'neost'",
     "output_type": "error",
     "traceback": [
      "\u001b[1;31m---------------------------------------------------------------------------\u001b[0m",
      "\u001b[1;31mModuleNotFoundError\u001b[0m                       Traceback (most recent call last)",
      "\u001b[1;32m<ipython-input-1-7062e8337d7b>\u001b[0m in \u001b[0;36m<module>\u001b[1;34m\u001b[0m\n\u001b[1;32m----> 1\u001b[1;33m \u001b[1;32mimport\u001b[0m \u001b[0mneost\u001b[0m\u001b[1;33m\u001b[0m\u001b[1;33m\u001b[0m\u001b[0m\n\u001b[0m\u001b[0;32m      2\u001b[0m \u001b[1;32mimport\u001b[0m \u001b[0mkalepy\u001b[0m\u001b[1;33m\u001b[0m\u001b[1;33m\u001b[0m\u001b[0m\n\u001b[0;32m      3\u001b[0m \u001b[1;32mfrom\u001b[0m \u001b[0mneost\u001b[0m\u001b[1;33m.\u001b[0m\u001b[0meos\u001b[0m \u001b[1;32mimport\u001b[0m \u001b[0mspeedofsound\u001b[0m\u001b[1;33m,\u001b[0m \u001b[0mtabulated\u001b[0m\u001b[1;33m\u001b[0m\u001b[1;33m\u001b[0m\u001b[0m\n\u001b[0;32m      4\u001b[0m \u001b[1;32mfrom\u001b[0m \u001b[0mneost\u001b[0m\u001b[1;33m.\u001b[0m\u001b[0mPrior\u001b[0m \u001b[1;32mimport\u001b[0m \u001b[0mPrior\u001b[0m\u001b[1;33m\u001b[0m\u001b[1;33m\u001b[0m\u001b[0m\n\u001b[0;32m      5\u001b[0m \u001b[1;32mfrom\u001b[0m \u001b[0mneost\u001b[0m\u001b[1;33m.\u001b[0m\u001b[0mStar\u001b[0m \u001b[1;32mimport\u001b[0m \u001b[0mStar\u001b[0m\u001b[1;33m\u001b[0m\u001b[1;33m\u001b[0m\u001b[0m\n",
      "\u001b[1;31mModuleNotFoundError\u001b[0m: No module named 'neost'"
     ]
    }
   ],
   "source": [
    "import neost\n",
    "import kalepy\n",
    "from neost.eos import speedofsound, tabulated\n",
    "from neost.Prior import Prior\n",
    "from neost.Star import Star\n",
    "from neost.Likelihood import Likelihood\n",
    "from neost import PosteriorAnalysis\n",
    "from scipy.stats import multivariate_normal\n",
    "from scipy.stats import gaussian_kde\n",
    "import numpy as np\n",
    "import matplotlib\n",
    "from matplotlib import pyplot\n",
    "from pymultinest.solve import solve\n",
    "import time\n",
    "import os\n",
    "\n",
    "import neost.global_imports as global_imports\n",
    "\n",
    "# Some physical constants\n",
    "c = global_imports._c\n",
    "G = global_imports._G\n",
    "Msun = global_imports._M_s\n",
    "pi = global_imports._pi\n",
    "rho_ns = global_imports._rhons\n",
    "\n",
    "# Define name for run, extra - at the end is for nicer formatting of output\n",
    "run_name = \"tabulated_AP4_test_2D_gaussian\""
   ]
  },
  {
   "cell_type": "markdown",
   "id": "026b62c6",
   "metadata": {},
   "source": [
    "Defining and loading in the AP4 nuclear equation of state"
   ]
  },
  {
   "cell_type": "code",
   "execution_count": null,
   "id": "2d332a83",
   "metadata": {},
   "outputs": [],
   "source": [
    "eos_name = 'tabulated'\n",
    "\n",
    "baryondensity, pressure_B, energydensity_B = np.loadtxt('ap4_new.dat', unpack=True) #in units of g/cm^3 for all values\n",
    "\n",
    "pressure_B = pressure_B*c**2 #(in units of g/(cm s^2))\n",
    "\n",
    "energydensity_B = energydensity_B"
   ]
  },
  {
   "cell_type": "markdown",
   "id": "18fb4398",
   "metadata": {},
   "source": [
    "## Equation of state object\n",
    "With NEoST properly imported the equation of state needs to be defined. For the CS parametrisation this is done by creating a `tabulated.TabulatedEoS()` object. This object takes can take an input the `crust` parameter and the `rho_t` parameter. However, none of these parameters are required if you wish to use only a tabulated equation of state. \n",
    "\n",
    "Valid input for the crust parameter consists of one of the following values: `'ceft-Hebeler'`, `'ceft-Tews'`, `'ceft-Lynn'`, `'ceft-Drischler'`, `'ceft-old'` or `None`. This instructs NEoST on which cEFT model to use, in order of listing these would be: the band based on the work by Hebeler et al., Tews et al., Lynn et al., Drischler et al., an old implementation of the Hebeler band from Raaijmakers et al., or no cEFT at all.\n",
    "\n",
    "The `rho_t` parameter tells NEoST at which density to transition between the cEFT crust parametrisation and the core parametrisation. This value must not exceed a value of twice the nuclear saturation density, although for the currently implemented cEFT models it should not exceed 1.1 times the nuclear saturation density."
   ]
  },
  {
   "cell_type": "code",
   "execution_count": null,
   "id": "25f199e0",
   "metadata": {},
   "outputs": [],
   "source": [
    "# Defining the base EoS model\n",
    "tabulated_example = tabulated.TabulatedEoS(energydensity_B,pressure_B)\n",
    "tabulated_example.update({}, max_edsc=True)"
   ]
  },
  {
   "cell_type": "markdown",
   "id": "a970e6e8",
   "metadata": {},
   "source": [
    "This next block of code defines the measurements used to create the likelihood function for the Bayesian analysis. It shows you how to define measurements using the `Scipy` library, as well as what parameters need to be past for a mass-radius measurement synthetic data.\n",
    "\n",
    "To define a mass-radius measurement you need to have your mean mass and radius mesurements (muM and muR, respectively), and the uncertainties (`sigM` and `sigR`, respectively). Since we are using a synthetic case, we define the probability density function of these sources using the `multivariate_normal` function in `Scipy` to define the two-dimension gaussian of the mass-radius measurements.\n",
    "\n",
    "These PDFs are then passed to NEoST. This is done through the `likelihood_functions` and `likelihood_params` lists. The first one is a list of all the (callable) PDFs, and the second one is a list of as many instances of `['Mass', 'Radius']` as you have mass-radius measurements. The ordering of this list matters insofar as that you need to put any mass-radius measurements first in the `likelihood_functions` list and any gravitational wave events second.\n",
    "\n",
    "You will also need to define a `chirp_mass` list containing the median values of the chirp masses of your events, in case your event is a mass-radius measurement, enter `None` instead.\n",
    "\n",
    "Finally you will also need to define how many events you pass to NEoST, a quick and easy way to do this is shown in the example code below."
   ]
  },
  {
   "cell_type": "code",
   "execution_count": null,
   "id": "ea7bde44",
   "metadata": {},
   "outputs": [],
   "source": [
    "# Here just a simple 2D gaussian.\n",
    "\n",
    "muM = 2.0947   #synthetic source with log_10(central energy density) = 15.240180657118929\n",
    "muR = 10.808\n",
    "sigM = 0.05*muM # 5% uncertainty in mass \n",
    "sigR = 0.05*muR # 5% uncertainty in radius\n",
    "test = multivariate_normal(mean=[muM, muR], cov=[[sigM, 0.0], [0.0, sigR]])\n",
    "\n",
    "muM2 = 1.7090   #synthetic source with log_10(central energy density) = 15.07681219601247\n",
    "muR2 = 11.312\n",
    "sigM2 = 0.05*muM2 # 5% uncertainty in mass \n",
    "sigR2 = 0.05*muR2 # 5% uncertainty in radius\n",
    "test2 = multivariate_normal(mean=[muM2, muR2], cov=[[sigM2, 0.0], [0.0, sigR2]])\n",
    "\n",
    "muM3 = 1.0814   #synthetic source with log_10(central energy density) = 14.913443734906012\n",
    "muR3 = 11.4587\n",
    "sigM3 = 0.05*muM3 # 5% uncertainty in mass \n",
    "sigR3 = 0.05*muR3 # 5% uncertainty in radius\n",
    "test3 = multivariate_normal(mean=[muM3, muR3], cov=[[sigM3, 0.0], [0.0, sigR3]])\n",
    "\n",
    "likelihood_functions = [test.pdf,test2.pdf,test3.pdf]\n",
    "likelihood_params = [['Mass', 'Radius'],['Mass', 'Radius'],['Mass', 'Radius']]\n",
    "\n",
    "# This is not a GW event so we set chirp mass to None\n",
    "chirp_mass = [None, None, None]\n",
    "number_stars = len(chirp_mass)"
   ]
  },
  {
   "cell_type": "markdown",
   "id": "6f91a832",
   "metadata": {},
   "source": [
    "With our data defined, the next step is to define both the prior and the likelihood function.\n",
    "\n",
    "The prior is defined through a pair of dictionaries, `variable_params` and `static_params`. Here `variable_params` takes in the equation of state parameters that will be allowed to vary, and `static_params` will take in those that won't. Entries into `variable_params` should be formatted as follows: `'param_name':[lower_bound,upper_bound]`\n",
    "\n",
    "Additionally, for each of the measurements you must also append a dictionary item `'rhoc_i':[14.6, 16]` to the end of `variable_params`, this parameter covers the central density of star i and needs to be appended for each star individually. Entries into `static_params` should be formatted in the following manner: `'param_name':value`.\n",
    "\n",
    "Finally, the prior object must be created using the following function call:`neost.Prior.Prior(EOS, variable_params, static_params, chirp_masses)` where the `EOS` argument is the equation of state object that was created in the previous step. When this prior is called it will then uniformly sample sets of parameters from the defined parameter ranges.\n",
    "\n",
    "The likelihood is defined by providing both the previously defined prior object and the likelihood functions defined in the previous codeblock. This is done with the following code: `likelihood = Likelihood(prior, likelihood_functions, likelihood_params, chirp_mass)`"
   ]
  },
  {
   "cell_type": "code",
   "execution_count": null,
   "id": "6f4a2a7b",
   "metadata": {},
   "outputs": [],
   "source": [
    "#Only vary the central densities on the sources because there are no parameters to vary in a tabulated equation of state\n",
    "variable_params = {}\n",
    "for i in range(number_stars):\n",
    "\tvariable_params.update({'rhoc_' + str(i+1):[14.6, 16]})\n",
    "\n",
    "# and set the rest to static parameters in the sampling\n",
    "static_params = {}\n",
    "\n",
    "# Then we define the prior and likelihood accordingly\n",
    "prior = Prior(tabulated_example, variable_params, static_params, chirp_mass)\n",
    "likelihood = Likelihood(prior, likelihood_functions, likelihood_params, chirp_mass)"
   ]
  },
  {
   "cell_type": "markdown",
   "id": "7a2c9d23",
   "metadata": {},
   "source": [
    "After defining your prior and likelihood function, it is best practice to test your prior and likelihood function. This is done with the short loop in the code block below. This loop will for each iteration first take a sample from the prior, and then compute the corresponding likelihood of said prior sample and print the likelihood as output."
   ]
  },
  {
   "cell_type": "code",
   "execution_count": null,
   "id": "7a535568",
   "metadata": {},
   "outputs": [],
   "source": [
    "print(\"Bounds of prior are\")\n",
    "print(variable_params)\n",
    "print(\"number of parameters is %d\" %len(variable_params))\n",
    "\n",
    "# First we test if everything is working as expected\n",
    "print(\"Testing prior and likelihood\")\n",
    "cube = np.random.rand(50, len(variable_params))\n",
    "for i in range(len(cube)):\n",
    "    par = prior.inverse_sample(cube[i])\n",
    "print(\"Testing done\")"
   ]
  },
  {
   "cell_type": "markdown",
   "id": "6f501723",
   "metadata": {},
   "source": [
    "When finished with testing your likelihood and prior you can proceed to the actual inference process. This is done in the code block below. Warning: depending on the performance of your platform, this might be a very slow process. To speed this process up, you may want to consider lowering the number of live_points to 500."
   ]
  },
  {
   "cell_type": "code",
   "execution_count": null,
   "id": "40b1b0fb",
   "metadata": {},
   "outputs": [],
   "source": [
    "# Then we start the sampling with MultiNest\n",
    "start = time.time()\n",
    "result = solve(LogLikelihood=likelihood.call, Prior=prior.inverse_sample, n_live_points=5000, evidence_tolerance=0.1,\n",
    "               n_dims=len(variable_params), sampling_efficiency=0.8, outputfiles_basename='chains/' + run_name, verbose=True)\n",
    "end = time.time()\n",
    "print(end - start)"
   ]
  },
  {
   "cell_type": "markdown",
   "id": "15fc65bc",
   "metadata": {},
   "source": [
    "Finally, NEoST also includes functionality to perform the first steps of posterior analysis. The first step in this process is to call the `PosteriorAnalysis.compute_auxiliary_data()` function with the code block below. This will generate as output a set of files that can subsequently be used with several additional plotting routines included in NEoST, or you can analyse these files on your own."
   ]
  },
  {
   "cell_type": "code",
   "execution_count": null,
   "id": "082c8206",
   "metadata": {},
   "outputs": [],
   "source": [
    "# Compute auxiliary data for posterior analysis\n",
    "PosteriorAnalysis.compute_auxiliary_data('chains/' + run_name, speedofsound_cs, \n",
    "                                         variable_params, static_params, chirp_mass)"
   ]
  },
  {
   "cell_type": "markdown",
   "id": "163e9abd",
   "metadata": {},
   "source": [
    "This following plotting routine will create a cornerplot of all the parameters you have included in the `variable_params` dictionary"
   ]
  },
  {
   "cell_type": "code",
   "execution_count": null,
   "id": "939bc1d8",
   "metadata": {},
   "outputs": [],
   "source": [
    "# Make some analysis plots\n",
    "PosteriorAnalysis.cornerplot('chains/' + run_name, variable_params)"
   ]
  },
  {
   "cell_type": "markdown",
   "id": "772190ff",
   "metadata": {},
   "source": [
    "This will plot the data you have used to define the likelihood. So these are the masses and radii of the neutron stars that have been included in the analysis. Note that this will also plot the masses and radii of any gravitational wave events included in the data."
   ]
  },
  {
   "cell_type": "code",
   "execution_count": null,
   "id": "44deee69",
   "metadata": {},
   "outputs": [],
   "source": [
    "PosteriorAnalysis.mass_radius_posterior_plot('chains/' + run_name)"
   ]
  },
  {
   "cell_type": "markdown",
   "id": "46faa8bd",
   "metadata": {},
   "source": [
    "This routine will plot the posterior on the mass-radius relationship of neutron stars according to the inference process, the `label_name` parameter will be the label used in the legend. Note, for the tabulated equation of state with no varying equation of state parameters, one cannot make the below `PosteriorAnalysis.py` files since EoS is tabulated and cannot be varied. If you do try to run these, the code will throw an `Error` message stating that you cannot do this. "
   ]
  },
  {
   "cell_type": "code",
   "execution_count": null,
   "id": "458713e3",
   "metadata": {},
   "outputs": [],
   "source": [
    "PosteriorAnalysis.mass_radius_prior_predictive_plot('chains/' + run_name,variable_params, label_name='+ Synethetic MR data')"
   ]
  },
  {
   "cell_type": "markdown",
   "id": "047f33df",
   "metadata": {},
   "source": [
    "This routine will plot the posterior on the equation of state itself."
   ]
  },
  {
   "cell_type": "code",
   "execution_count": null,
   "id": "4620c6b3",
   "metadata": {},
   "outputs": [],
   "source": [
    "PosteriorAnalysis.eos_posterior_plot('chains/' + run_name,variable_params)"
   ]
  }
 ],
 "metadata": {
  "kernelspec": {
   "display_name": "Python 3",
   "language": "python",
   "name": "python3"
  },
  "language_info": {
   "codemirror_mode": {
    "name": "ipython",
    "version": 3
   },
   "file_extension": ".py",
   "mimetype": "text/x-python",
   "name": "python",
   "nbconvert_exporter": "python",
   "pygments_lexer": "ipython3",
   "version": "3.8.8"
  }
 },
 "nbformat": 4,
 "nbformat_minor": 5
}
